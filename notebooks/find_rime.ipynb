{
  "nbformat": 4,
  "nbformat_minor": 0,
  "metadata": {
    "colab": {
      "provenance": []
    },
    "kernelspec": {
      "name": "python3",
      "display_name": "Python 3"
    },
    "language_info": {
      "name": "python"
    }
  },
  "cells": [
    {
      "cell_type": "code",
      "execution_count": 3,
      "metadata": {
        "id": "ZsFzYahAobKk"
      },
      "outputs": [],
      "source": [
        "import numpy as np\n"
      ]
    },
    {
      "cell_type": "code",
      "source": [
        "num_samples = 142000  # Number of samples to train on.\n",
        "# Path to the data txt file on disk.\n",
        "data_path = \"lexique/lexique.csv\"\n",
        "\n",
        "def construct_tuples(path):\n",
        "  input_texts = []\n",
        "  target_texts = []\n",
        "  with open(data_path, \"r\", encoding=\"utf-8\") as f:\n",
        "      lines = f.read().split(\"\\n\")\n",
        "  for line in lines[: min(num_samples, len(lines) - 1)]:\n",
        "      input_text, target_text = line.split(\",\")\n",
        "      input_texts.append(input_text)\n",
        "      target_texts.append(target_text)\n",
        "\n",
        "  tuples = []\n",
        "\n",
        "  for i, (input_text, target_text) in enumerate(zip(input_texts, target_texts)):\n",
        "    tuples.append([input_text, target_text, 0])\n",
        "\n",
        "  return tuples\n",
        "\n",
        "def find_best_match(word, tuples):\n",
        "  tuples = tuples.copy()\n",
        "\n",
        "  for idx_char, char in enumerate(reversed(word)):\n",
        "    for i, line in enumerate(tuples):\n",
        "      if len(line[1]) >= idx_char + 1:\n",
        "        if char == line[1][-1-idx_char]:\n",
        "          line[2] += 1/(idx_char+1)       \n",
        "\n",
        "  return sorted(tuples,key=lambda x:x[2],reverse=True)\n",
        "\n",
        "tuples = construct_tuples(data_path)\n",
        "\n",
        "sorted_tuples = find_best_match(\"demisjonE\", tuples)\n",
        "\n",
        "print(sorted_tuples[15])\n",
        "\n"
      ],
      "metadata": {
        "colab": {
          "base_uri": "https://localhost:8080/"
        },
        "id": "Pl5kH8UKofQw",
        "outputId": "47fe6ebb-dab0-47bd-e7a4-08c07573cbf3"
      },
      "execution_count": 61,
      "outputs": [
        {
          "output_type": "stream",
          "name": "stdout",
          "text": [
            "['mentionnait', 'm@sjonE', 2.426190476190476]\n"
          ]
        }
      ]
    }
  ]
}