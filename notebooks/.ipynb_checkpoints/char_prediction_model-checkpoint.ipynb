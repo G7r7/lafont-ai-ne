{
 "cells": [
  {
   "cell_type": "code",
   "execution_count": 1,
   "metadata": {},
   "outputs": [],
   "source": [
    "import tensorflow as tf\n",
    "\n",
    "import numpy as np\n",
    "import os\n",
    "import time"
   ]
  },
  {
   "cell_type": "code",
   "execution_count": 48,
   "metadata": {},
   "outputs": [
    {
     "name": "stdout",
     "output_type": "stream",
     "text": [
      "Length of text: 121 characters\n"
     ]
    }
   ],
   "source": [
    "path_to_file = \"/poems/PG4741_text.txt0.txt\"\n",
    "\n",
    "# Read, then decode for py2 compat.\n",
    "text = open(path_to_file, 'rb').read().decode(encoding='utf-8')\n",
    "# length of text is the number of characters in it\n",
    "print(f'Length of text: {len(text)} characters')"
   ]
  },
  {
   "cell_type": "code",
   "execution_count": 49,
   "metadata": {},
   "outputs": [
    {
     "name": "stdout",
     "output_type": "stream",
     "text": [
      "Au mouvement des sources\n",
      "nos mères spongieuses\n",
      "à la terre\n",
      "enracinées\n",
      "s'agrippent aux foetus\n",
      "déjà mûrs\n",
      "de l'automne achevé\n"
     ]
    }
   ],
   "source": [
    "# Take a look at the first 250 characters in text\n",
    "print(text[:250])"
   ]
  },
  {
   "cell_type": "code",
   "execution_count": 50,
   "metadata": {},
   "outputs": [
    {
     "name": "stdout",
     "output_type": "stream",
     "text": [
      "28 unique characters\n"
     ]
    }
   ],
   "source": [
    "# The unique characters in the file\n",
    "vocab = sorted(set(text))\n",
    "print(f'{len(vocab)} unique characters')"
   ]
  },
  {
   "cell_type": "code",
   "execution_count": 60,
   "metadata": {},
   "outputs": [
    {
     "data": {
      "text/plain": [
       "<tf.RaggedTensor [[b'A', b'u'], [b'm', b'o', b'u', b'v', b'e', b'm', b'e', b'n', b't'],\n",
       " [b'd', b'e', b's'], [b's', b'o', b'u', b'r', b'c', b'e', b's'],\n",
       " [b'n', b'o', b's'], [b'm', b'\\xc3\\xa8', b'r', b'e', b's'],\n",
       " [b's', b'p', b'o', b'n', b'g', b'i', b'e', b'u', b's', b'e', b's'],\n",
       " [b'\\xc3\\xa0'], [b'l', b'a'], [b't', b'e', b'r', b'r', b'e'],\n",
       " [b'e', b'n', b'r', b'a', b'c', b'i', b'n', b'\\xc3\\xa9', b'e', b's'],\n",
       " [b's', b\"'\", b'a', b'g', b'r', b'i', b'p', b'p', b'e', b'n', b't'],\n",
       " [b'a', b'u', b'x'], [b'f', b'o', b'e', b't', b'u', b's'],\n",
       " [b'd', b'\\xc3\\xa9', b'j', b'\\xc3\\xa0'], [b'm', b'\\xc3\\xbb', b'r', b's'],\n",
       " [b'd', b'e'], [b'l', b\"'\", b'a', b'u', b't', b'o', b'm', b'n', b'e'],\n",
       " [b'a', b'c', b'h', b'e', b'v', b'\\xc3\\xa9']]>"
      ]
     },
     "execution_count": 60,
     "metadata": {},
     "output_type": "execute_result"
    }
   ],
   "source": [
    "# Vectoriser le texte\n",
    "# Avant la formation, vous devez convertir les chaînes en une représentation numérique.\n",
    "# La couche tf.keras.layers.StringLookup peut convertir chaque caractère en un ID numérique.\n",
    "# Il a juste besoin que le texte soit d'abord divisé en jetons.\n",
    "\n",
    "example_texts = text.split()\n",
    "\n",
    "chars = tf.strings.unicode_split(example_texts, input_encoding='UTF-8')\n",
    "chars"
   ]
  },
  {
   "cell_type": "code",
   "execution_count": 6,
   "metadata": {},
   "outputs": [],
   "source": [
    "# Vectoriser le texte\n",
    "# Avant la formation, vous devez convertir les chaînes en une représentation numérique.\n",
    "# La couche tf.keras.layers.StringLookup peut convertir chaque caractère en un ID numérique.\n",
    "# Il a juste besoin que le texte soit d'abord divisé en jetons.\n",
    "\n",
    "ids_from_chars = tf.keras.layers.StringLookup(\n",
    "    vocabulary=list(vocab), mask_token=None)"
   ]
  },
  {
   "cell_type": "code",
   "execution_count": 7,
   "metadata": {},
   "outputs": [],
   "source": [
    "# Il convertit les jetons en ID de personnage\n",
    "ids = ids_from_chars(chars)"
   ]
  },
  {
   "cell_type": "code",
   "execution_count": 8,
   "metadata": {},
   "outputs": [],
   "source": [
    "# Le but de ce tutoriel étant de générer du texte,\n",
    "# il sera également important d'inverser cette représentation\n",
    "# et d'en récupérer les chaînes lisibles par l'homme.\n",
    "# Pour cela, vous pouvez utiliser tf.keras.layers.StringLookup(..., invert=True) .\n",
    "\n",
    "chars_from_ids = tf.keras.layers.StringLookup(\n",
    "    vocabulary=ids_from_chars.get_vocabulary(), invert=True, mask_token=None)\n"
   ]
  },
  {
   "cell_type": "code",
   "execution_count": 9,
   "metadata": {},
   "outputs": [
    {
     "data": {
      "text/plain": [
       "<tf.RaggedTensor [[b'A', b'u'], [b'm', b'o', b'u', b'v', b'e', b'm', b'e', b'n', b't'],\n",
       " [b'd', b'e', b's'], [b's', b'o', b'u', b'r', b'c', b'e', b's'],\n",
       " [b'n', b'o', b's'], [b'm', b'\\xc3\\xa8', b'r', b'e', b's'],\n",
       " [b's', b'p', b'o', b'n', b'g', b'i', b'e', b'u', b's', b'e', b's'],\n",
       " [b'\\xc3\\xa0'], [b'l', b'a'], [b't', b'e', b'r', b'r', b'e'],\n",
       " [b'e', b'n', b'r', b'a', b'c', b'i', b'n', b'\\xc3\\xa9', b'e', b's'],\n",
       " [b's', b\"'\", b'a', b'g', b'r', b'i', b'p', b'p', b'e', b'n', b't'],\n",
       " [b'a', b'u', b'x'], [b'f', b'o', b'e', b't', b'u', b's'],\n",
       " [b'd', b'\\xc3\\xa9', b'j', b'\\xc3\\xa0'], [b'm', b'\\xc3\\xbb', b'r', b's'],\n",
       " [b'd', b'e'], [b'l', b\"'\", b'a', b'u', b't', b'o', b'm', b'n', b'e'],\n",
       " [b'a', b'c', b'h', b'e', b'v', b'\\xc3\\xa9']]>"
      ]
     },
     "execution_count": 9,
     "metadata": {},
     "output_type": "execute_result"
    }
   ],
   "source": [
    "# Cette couche récupère les caractères des vecteurs d'IDs,\n",
    "# et les renvoie sous la forme d'un tf.RaggedTensor de caractères :\n",
    "\n",
    "chars = chars_from_ids(ids)\n",
    "chars"
   ]
  },
  {
   "cell_type": "code",
   "execution_count": 10,
   "metadata": {},
   "outputs": [
    {
     "data": {
      "text/plain": [
       "array([b'Au', b'mouvement', b'des', b'sources', b'nos', b'm\\xc3\\xa8res',\n",
       "       b'spongieuses', b'\\xc3\\xa0', b'la', b'terre', b'enracin\\xc3\\xa9es',\n",
       "       b\"s'agrippent\", b'aux', b'foetus', b'd\\xc3\\xa9j\\xc3\\xa0',\n",
       "       b'm\\xc3\\xbbrs', b'de', b\"l'automne\", b'achev\\xc3\\xa9'],\n",
       "      dtype=object)"
      ]
     },
     "execution_count": 10,
     "metadata": {},
     "output_type": "execute_result"
    }
   ],
   "source": [
    "# Vous pouvez tf.strings.reduce_join pour joindre les caractères dans des chaînes.\n",
    "\n",
    "tf.strings.reduce_join(chars, axis=-1).numpy()\n"
   ]
  },
  {
   "cell_type": "code",
   "execution_count": 11,
   "metadata": {},
   "outputs": [],
   "source": [
    "def text_from_ids(ids):\n",
    "  return tf.strings.reduce_join(chars_from_ids(ids), axis=-1)\n"
   ]
  },
  {
   "cell_type": "code",
   "execution_count": 12,
   "metadata": {},
   "outputs": [
    {
     "name": "stdout",
     "output_type": "stream",
     "text": [
      "Au mouvement des sources\n",
      "nos mères spongieuses\n",
      "à la terre\n",
      "enracinées\n",
      "s'agrippent aux foetus\n",
      "déjà mûrs\n",
      "de l'automne achevé\n"
     ]
    },
    {
     "data": {
      "text/plain": [
       "<tf.Tensor: shape=(121,), dtype=int64, numpy=\n",
       "array([ 4, 22,  2, 15, 17, 22, 23,  8, 15,  8, 16, 21,  2,  7,  8, 20,  2,\n",
       "       20, 17, 22, 19,  6,  8, 20,  1, 16, 17, 20,  2, 15, 26, 19,  8, 20,\n",
       "        2, 20, 18, 17, 16, 10, 12,  8, 22, 20,  8, 20,  1, 25,  2, 14,  5,\n",
       "        2, 21,  8, 19, 19,  8,  1,  8, 16, 19,  5,  6, 12, 16, 27,  8, 20,\n",
       "        1, 20,  3,  5, 10, 19, 12, 18, 18,  8, 16, 21,  2,  5, 22, 24,  2,\n",
       "        9, 17,  8, 21, 22, 20,  1,  7, 27, 13, 25,  2, 15, 28, 19, 20,  1,\n",
       "        7,  8,  2, 14,  3,  5, 22, 21, 17, 15, 16,  8,  2,  5,  6, 11,  8,\n",
       "       23, 27])>"
      ]
     },
     "execution_count": 12,
     "metadata": {},
     "output_type": "execute_result"
    }
   ],
   "source": [
    "# Prédiction\n",
    "\n",
    "# Divisez ensuite le texte en exemples de séquences. \n",
    "# Chaque séquence d'entrée contiendra seq_length caractères du texte.\n",
    "\n",
    "# Pour chaque séquence d'entrée,\n",
    "# les cibles correspondantes contiennent la même longueur de texte,\n",
    "# sauf qu'elles sont décalées d'un caractère vers la droite.\n",
    "\n",
    "# Divisez donc le texte en morceaux de seq_length+1 .\n",
    "# Par exemple, disons que seq_length est 4 et que notre texte est \"Bonjour\".\n",
    "# La séquence d'entrée serait \"Hell\" et la séquence cible \"ello\".\n",
    "\n",
    "# Pour ce faire, utilisez d'abord la fonction tf.data.Dataset.from_tensor_slices\n",
    "# pour convertir le vecteur de texte en un flux d'indices de caractères.\n",
    "\n",
    "print(text)\n",
    "\n",
    "all_ids = ids_from_chars(tf.strings.unicode_split(text, 'UTF-8'))\n",
    "all_ids"
   ]
  },
  {
   "cell_type": "code",
   "execution_count": 13,
   "metadata": {},
   "outputs": [
    {
     "data": {
      "text/plain": [
       "<TensorSliceDataset element_spec=TensorSpec(shape=(), dtype=tf.int64, name=None)>"
      ]
     },
     "execution_count": 13,
     "metadata": {},
     "output_type": "execute_result"
    }
   ],
   "source": [
    "ids_dataset = tf.data.Dataset.from_tensor_slices(all_ids)\n",
    "ids_dataset"
   ]
  },
  {
   "cell_type": "code",
   "execution_count": 14,
   "metadata": {},
   "outputs": [
    {
     "name": "stdout",
     "output_type": "stream",
     "text": [
      "A\n",
      "u\n",
      " \n",
      "m\n",
      "o\n",
      "u\n",
      "v\n",
      "e\n",
      "m\n",
      "e\n"
     ]
    }
   ],
   "source": [
    "for ids in ids_dataset.take(10):\n",
    "    print(chars_from_ids(ids).numpy().decode('utf-8'))\n"
   ]
  },
  {
   "cell_type": "code",
   "execution_count": 15,
   "metadata": {},
   "outputs": [
    {
     "data": {
      "text/plain": [
       "1"
      ]
     },
     "execution_count": 15,
     "metadata": {},
     "output_type": "execute_result"
    }
   ],
   "source": [
    "seq_length = 100\n",
    "examples_per_epoch = len(text)//(seq_length+1)\n",
    "examples_per_epoch"
   ]
  },
  {
   "cell_type": "code",
   "execution_count": 16,
   "metadata": {},
   "outputs": [
    {
     "name": "stdout",
     "output_type": "stream",
     "text": [
      "tf.Tensor(\n",
      "[b'A' b'u' b' ' b'm' b'o' b'u' b'v' b'e' b'm' b'e' b'n' b't' b' ' b'd'\n",
      " b'e' b's' b' ' b's' b'o' b'u' b'r' b'c' b'e' b's' b'\\n' b'n' b'o' b's'\n",
      " b' ' b'm' b'\\xc3\\xa8' b'r' b'e' b's' b' ' b's' b'p' b'o' b'n' b'g' b'i'\n",
      " b'e' b'u' b's' b'e' b's' b'\\n' b'\\xc3\\xa0' b' ' b'l' b'a' b' ' b't' b'e'\n",
      " b'r' b'r' b'e' b'\\n' b'e' b'n' b'r' b'a' b'c' b'i' b'n' b'\\xc3\\xa9' b'e'\n",
      " b's' b'\\n' b's' b\"'\" b'a' b'g' b'r' b'i' b'p' b'p' b'e' b'n' b't' b' '\n",
      " b'a' b'u' b'x' b' ' b'f' b'o' b'e' b't' b'u' b's' b'\\n' b'd' b'\\xc3\\xa9'\n",
      " b'j' b'\\xc3\\xa0' b' ' b'm' b'\\xc3\\xbb' b'r' b's'], shape=(101,), dtype=string)\n"
     ]
    }
   ],
   "source": [
    "# La méthode batch vous permet de convertir facilement ces caractères individuels\n",
    "# en séquences de la taille souhaitée.\n",
    "\n",
    "sequences = ids_dataset.batch(seq_length+1, drop_remainder=True)\n",
    "\n",
    "for seq in sequences.take(1):\n",
    "  print(chars_from_ids(seq))\n"
   ]
  },
  {
   "cell_type": "code",
   "execution_count": 17,
   "metadata": {},
   "outputs": [
    {
     "name": "stdout",
     "output_type": "stream",
     "text": [
      "b\"Au mouvement des sources\\nnos m\\xc3\\xa8res spongieuses\\n\\xc3\\xa0 la terre\\nenracin\\xc3\\xa9es\\ns'agrippent aux foetus\\nd\\xc3\\xa9j\\xc3\\xa0 m\\xc3\\xbbrs\"\n"
     ]
    }
   ],
   "source": [
    "# Il est plus facile de voir ce que cela fait\n",
    "# si vous rejoignez les jetons dans des chaînes\n",
    "\n",
    "for seq in sequences.take(5):\n",
    "  print(text_from_ids(seq).numpy())"
   ]
  },
  {
   "cell_type": "code",
   "execution_count": 18,
   "metadata": {},
   "outputs": [
    {
     "data": {
      "text/plain": [
       "(['T', 'e', 'n', 's', 'o', 'r', 'f', 'l', 'o'],\n",
       " ['e', 'n', 's', 'o', 'r', 'f', 'l', 'o', 'w'])"
      ]
     },
     "execution_count": 18,
     "metadata": {},
     "output_type": "execute_result"
    }
   ],
   "source": [
    "# Pour la formation, vous aurez besoin d'un ensemble de données de paires (input, label) .\n",
    "# Où input et l' label sont des séquences.\n",
    "# A chaque pas de temps, l'entrée est le caractère courant et l'étiquette est le caractère suivant.\n",
    "\n",
    "# Voici une fonction qui prend une séquence en entrée,\n",
    "# la duplique et la décale pour aligner l'entrée et l'étiquette pour chaque pas de temps :\n",
    "\n",
    "def split_input_target(sequence):\n",
    "    input_text = sequence[:-1]\n",
    "    target_text = sequence[1:]\n",
    "    return input_text, target_text\n",
    "\n",
    "split_input_target(list(\"Tensorflow\"))\n"
   ]
  },
  {
   "cell_type": "code",
   "execution_count": 19,
   "metadata": {},
   "outputs": [],
   "source": [
    "dataset = sequences.map(split_input_target)"
   ]
  },
  {
   "cell_type": "code",
   "execution_count": 20,
   "metadata": {},
   "outputs": [
    {
     "name": "stdout",
     "output_type": "stream",
     "text": [
      "Input : b\"Au mouvement des sources\\nnos m\\xc3\\xa8res spongieuses\\n\\xc3\\xa0 la terre\\nenracin\\xc3\\xa9es\\ns'agrippent aux foetus\\nd\\xc3\\xa9j\\xc3\\xa0 m\\xc3\\xbbr\"\n",
      "Target: b\"u mouvement des sources\\nnos m\\xc3\\xa8res spongieuses\\n\\xc3\\xa0 la terre\\nenracin\\xc3\\xa9es\\ns'agrippent aux foetus\\nd\\xc3\\xa9j\\xc3\\xa0 m\\xc3\\xbbrs\"\n"
     ]
    }
   ],
   "source": [
    "for input_example, target_example in dataset.take(1):\n",
    "    print(\"Input :\", text_from_ids(input_example).numpy())\n",
    "    print(\"Target:\", text_from_ids(target_example).numpy())\n"
   ]
  },
  {
   "cell_type": "code",
   "execution_count": 22,
   "metadata": {},
   "outputs": [
    {
     "data": {
      "text/plain": [
       "<BatchDataset element_spec=(TensorSpec(shape=(None, 100), dtype=tf.int64, name=None), TensorSpec(shape=(None, 100), dtype=tf.int64, name=None))>"
      ]
     },
     "execution_count": 22,
     "metadata": {},
     "output_type": "execute_result"
    }
   ],
   "source": [
    "# Créer des lots de formation\n",
    "# Vous avez utilisé tf.data pour diviser le texte en séquences gérables.\n",
    "# Mais avant d'introduire ces données dans le modèle,\n",
    "# vous devez mélanger les données et les regrouper en lots.\n",
    "\n",
    "# Batch size\n",
    "BATCH_SIZE = 64\n",
    "\n",
    "# Buffer size to shuffle the dataset\n",
    "# (TF data is designed to work with possibly infinite sequences,\n",
    "# so it doesn't attempt to shuffle the entire sequence in memory. Instead,\n",
    "# it maintains a buffer in which it shuffles elements).\n",
    "BUFFER_SIZE = 256\n",
    "\n",
    "dataset = (\n",
    "    dataset\n",
    "    .shuffle(BUFFER_SIZE)\n",
    "    .batch(BATCH_SIZE))\n",
    "\n",
    "dataset"
   ]
  },
  {
   "cell_type": "code",
   "execution_count": 23,
   "metadata": {},
   "outputs": [],
   "source": [
    "# Construire le modèle\n",
    "\n",
    "# Cette section définit le modèle comme une sous-classe keras.Model\n",
    "# (pour plus de détails, voir Création de nouveaux calques et modèles via la sous-classe ).\n",
    "\n",
    "# Ce modèle comporte trois couches :\n",
    "\n",
    "# tf.keras.layers.Embedding : La couche d'entrée. Une table de recherche entraînable qui mappera chaque ID de caractère à un vecteur avec des dimensions embedding_dim ;\n",
    "# tf.keras.layers.GRU : Un type de RNN avec des units=rnn_units (Vous pouvez également utiliser une couche LSTM ici.)\n",
    "# tf.keras.layers.Dense : la couche de sortie, avec les sorties vocab_size . Il produit un logit pour chaque caractère du vocabulaire. Ce sont les log-vraisemblance de chaque caractère selon le modèle.\n",
    "\n",
    "# Length of the vocabulary in chars\n",
    "vocab_size = len(vocab)\n",
    "\n",
    "# The embedding dimension\n",
    "embedding_dim = 256\n",
    "\n",
    "# Number of RNN units\n",
    "rnn_units = 1024\n",
    "\n",
    "class MyModel(tf.keras.Model):\n",
    "  def __init__(self, vocab_size, embedding_dim, rnn_units):\n",
    "    super().__init__(self)\n",
    "    self.embedding = tf.keras.layers.Embedding(vocab_size, embedding_dim)\n",
    "    self.gru = tf.keras.layers.GRU(rnn_units,\n",
    "                                   return_sequences=True,\n",
    "                                   return_state=True)\n",
    "    self.dense = tf.keras.layers.Dense(vocab_size)\n",
    "\n",
    "  def call(self, inputs, states=None, return_state=False, training=False):\n",
    "    x = inputs\n",
    "    x = self.embedding(x, training=training)\n",
    "    if states is None:\n",
    "      states = self.gru.get_initial_state(x)\n",
    "    x, states = self.gru(x, initial_state=states, training=training)\n",
    "    x = self.dense(x, training=training)\n",
    "\n",
    "    if return_state:\n",
    "      return x, states\n",
    "    else:\n",
    "      return x\n",
    "\n",
    "model = MyModel(\n",
    "    # Be sure the vocabulary size matches the `StringLookup` layers.\n",
    "    vocab_size=len(ids_from_chars.get_vocabulary()),\n",
    "    embedding_dim=embedding_dim,\n",
    "    rnn_units=rnn_units)"
   ]
  },
  {
   "cell_type": "code",
   "execution_count": 24,
   "metadata": {},
   "outputs": [
    {
     "name": "stdout",
     "output_type": "stream",
     "text": [
      "(1, 100, 29) # (batch_size, sequence_length, vocab_size)\n"
     ]
    }
   ],
   "source": [
    "# Essayez le modèle\n",
    "\n",
    "# Exécutez maintenant le modèle pour voir qu'il se comporte comme prévu.\n",
    "\n",
    "# Vérifiez d'abord la forme de la sortie :\n",
    "\n",
    "for input_example_batch, target_example_batch in dataset.take(1):\n",
    "    example_batch_predictions = model(input_example_batch)\n",
    "    print(example_batch_predictions.shape, \"# (batch_size, sequence_length, vocab_size)\")"
   ]
  },
  {
   "cell_type": "code",
   "execution_count": 25,
   "metadata": {},
   "outputs": [
    {
     "name": "stdout",
     "output_type": "stream",
     "text": [
      "Model: \"my_model\"\n",
      "_________________________________________________________________\n",
      " Layer (type)                Output Shape              Param #   \n",
      "=================================================================\n",
      " embedding (Embedding)       multiple                  7424      \n",
      "                                                                 \n",
      " gru (GRU)                   multiple                  3938304   \n",
      "                                                                 \n",
      " dense (Dense)               multiple                  29725     \n",
      "                                                                 \n",
      "=================================================================\n",
      "Total params: 3,975,453\n",
      "Trainable params: 3,975,453\n",
      "Non-trainable params: 0\n",
      "_________________________________________________________________\n"
     ]
    }
   ],
   "source": [
    "model.summary()"
   ]
  },
  {
   "cell_type": "code",
   "execution_count": 27,
   "metadata": {},
   "outputs": [
    {
     "data": {
      "text/plain": [
       "array([24, 11, 28, 27, 10, 14,  8,  8,  3,  6, 18,  1, 20,  5,  2, 23,  4,\n",
       "       17,  8, 20, 12, 23, 24, 12, 21, 28, 11,  0,  0, 25,  8, 26,  3, 28,\n",
       "       19, 15,  5, 20, 14,  7, 19, 17, 24, 11,  5, 14,  3, 25, 20, 11,  6,\n",
       "       19, 23,  0, 18,  1, 10, 18, 14,  8, 25, 18, 24, 14,  3,  5,  8, 11,\n",
       "       15, 26, 13,  7,  5,  9, 17, 18, 24, 18,  4, 20, 13, 17, 11,  1,  4,\n",
       "       27,  9, 17, 12,  2,  8, 21, 18,  1,  9,  4, 27, 16, 26, 17])"
      ]
     },
     "execution_count": 27,
     "metadata": {},
     "output_type": "execute_result"
    }
   ],
   "source": [
    "# To get actual predictions from the model you need to sample from the output distribution,\n",
    "# to get actual character indices.\n",
    "# This distribution is defined by the logits over the character vocabulary.\n",
    "\n",
    "# Try it for the first example in the batch:\n",
    "\n",
    "sampled_indices = tf.random.categorical(example_batch_predictions[0], num_samples=1)\n",
    "sampled_indices = tf.squeeze(sampled_indices, axis=-1).numpy()\n",
    "\n",
    "# This gives us, at each timestep, a prediction of the next character index:\n",
    "\n",
    "sampled_indices"
   ]
  },
  {
   "cell_type": "code",
   "execution_count": 63,
   "metadata": {},
   "outputs": [
    {
     "name": "stdout",
     "output_type": "stream",
     "text": [
      "Input:\n",
      " b\"Au mouvement des sources\\nnos m\\xc3\\xa8res spongieuses\\n\\xc3\\xa0 la terre\\nenracin\\xc3\\xa9es\\ns'agrippent aux foetus\\nd\\xc3\\xa9j\\xc3\\xa0 m\\xc3\\xbbr\"\n",
      "\n",
      "Next Char Predictions:\n",
      " b\"xh\\xc3\\xbb\\xc3\\xa9glee'cp\\nsa vAoesivxit\\xc3\\xbbh[UNK][UNK]\\xc3\\xa0e\\xc3\\xa8'\\xc3\\xbbrmasldroxhal'\\xc3\\xa0shcrv[UNK]p\\ngple\\xc3\\xa0pxl'aehm\\xc3\\xa8jdafopxpAsjoh\\nA\\xc3\\xa9foi etp\\nfA\\xc3\\xa9n\\xc3\\xa8o\"\n",
      "\n",
      "Décodé:\n",
      " xhûéglee'cp\n",
      "sa vAoesivxitûh[UNK][UNK]àeè'ûrmasldroxhal'àshcrv[UNK]p\n",
      "gpleàpxl'aehmèjdafopxpAsjoh\n",
      "Aéfoi etp\n",
      "fAénèo\n"
     ]
    }
   ],
   "source": [
    "# Decode these to see the text predicted by this untrained model:\n",
    "\n",
    "print(\"Input:\\n\", text_from_ids(input_example_batch[0]).numpy())\n",
    "print()\n",
    "print(\"Next Char Predictions:\\n\", text_from_ids(sampled_indices).numpy())\n",
    "print()\n",
    "print(\"Décodé:\\n\", text_from_ids(sampled_indices).numpy().decode(\"UTF-8\"))"
   ]
  }
 ],
 "metadata": {
  "kernelspec": {
   "display_name": "Python 3",
   "language": "python",
   "name": "python3"
  },
  "language_info": {
   "codemirror_mode": {
    "name": "ipython",
    "version": 3
   },
   "file_extension": ".py",
   "mimetype": "text/x-python",
   "name": "python",
   "nbconvert_exporter": "python",
   "pygments_lexer": "ipython3",
   "version": "3.8.10"
  }
 },
 "nbformat": 4,
 "nbformat_minor": 2
}
